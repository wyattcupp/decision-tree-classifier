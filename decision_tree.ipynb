{
 "cells": [
  {
   "cell_type": "markdown",
   "id": "adapted-blame",
   "metadata": {},
   "source": [
    "## Decision Tree from Scratch\n",
    "### Wyatt Cupp\n",
    "#### <wyattcupp@gmail.com>"
   ]
  },
  {
   "cell_type": "code",
   "execution_count": 1,
   "id": "recognized-monday",
   "metadata": {},
   "outputs": [],
   "source": [
    "import pandas as pd\n",
    "import numpy as np\n",
    "import matplotlib.pyplot as plt\n",
    "\n",
    "%matplotlib inline"
   ]
  },
  {
   "cell_type": "markdown",
   "id": "creative-oklahoma",
   "metadata": {},
   "source": [
    "### Import Data - [Pima Indians Dataset](https://www.kaggle.com/uciml/pima-indians-diabetes-database)\n",
    "\n",
    "Store data in parallel project directory `decision-tree-classifier/data/`"
   ]
  },
  {
   "cell_type": "code",
   "execution_count": 2,
   "id": "exotic-payday",
   "metadata": {
    "scrolled": false
   },
   "outputs": [
    {
     "data": {
      "text/html": [
       "<div>\n",
       "<style scoped>\n",
       "    .dataframe tbody tr th:only-of-type {\n",
       "        vertical-align: middle;\n",
       "    }\n",
       "\n",
       "    .dataframe tbody tr th {\n",
       "        vertical-align: top;\n",
       "    }\n",
       "\n",
       "    .dataframe thead th {\n",
       "        text-align: right;\n",
       "    }\n",
       "</style>\n",
       "<table border=\"1\" class=\"dataframe\">\n",
       "  <thead>\n",
       "    <tr style=\"text-align: right;\">\n",
       "      <th></th>\n",
       "      <th>Pregnancies</th>\n",
       "      <th>Glucose</th>\n",
       "      <th>BloodPressure</th>\n",
       "      <th>SkinThickness</th>\n",
       "      <th>Insulin</th>\n",
       "      <th>BMI</th>\n",
       "      <th>DiabetesPedigreeFunction</th>\n",
       "      <th>Age</th>\n",
       "      <th>Outcome</th>\n",
       "    </tr>\n",
       "  </thead>\n",
       "  <tbody>\n",
       "    <tr>\n",
       "      <th>0</th>\n",
       "      <td>6</td>\n",
       "      <td>148</td>\n",
       "      <td>72</td>\n",
       "      <td>35</td>\n",
       "      <td>0</td>\n",
       "      <td>33.6</td>\n",
       "      <td>0.627</td>\n",
       "      <td>50</td>\n",
       "      <td>1</td>\n",
       "    </tr>\n",
       "    <tr>\n",
       "      <th>1</th>\n",
       "      <td>1</td>\n",
       "      <td>85</td>\n",
       "      <td>66</td>\n",
       "      <td>29</td>\n",
       "      <td>0</td>\n",
       "      <td>26.6</td>\n",
       "      <td>0.351</td>\n",
       "      <td>31</td>\n",
       "      <td>0</td>\n",
       "    </tr>\n",
       "    <tr>\n",
       "      <th>2</th>\n",
       "      <td>8</td>\n",
       "      <td>183</td>\n",
       "      <td>64</td>\n",
       "      <td>0</td>\n",
       "      <td>0</td>\n",
       "      <td>23.3</td>\n",
       "      <td>0.672</td>\n",
       "      <td>32</td>\n",
       "      <td>1</td>\n",
       "    </tr>\n",
       "    <tr>\n",
       "      <th>3</th>\n",
       "      <td>1</td>\n",
       "      <td>89</td>\n",
       "      <td>66</td>\n",
       "      <td>23</td>\n",
       "      <td>94</td>\n",
       "      <td>28.1</td>\n",
       "      <td>0.167</td>\n",
       "      <td>21</td>\n",
       "      <td>0</td>\n",
       "    </tr>\n",
       "    <tr>\n",
       "      <th>4</th>\n",
       "      <td>0</td>\n",
       "      <td>137</td>\n",
       "      <td>40</td>\n",
       "      <td>35</td>\n",
       "      <td>168</td>\n",
       "      <td>43.1</td>\n",
       "      <td>2.288</td>\n",
       "      <td>33</td>\n",
       "      <td>1</td>\n",
       "    </tr>\n",
       "  </tbody>\n",
       "</table>\n",
       "</div>"
      ],
      "text/plain": [
       "   Pregnancies  Glucose  BloodPressure  SkinThickness  Insulin   BMI  \\\n",
       "0            6      148             72             35        0  33.6   \n",
       "1            1       85             66             29        0  26.6   \n",
       "2            8      183             64              0        0  23.3   \n",
       "3            1       89             66             23       94  28.1   \n",
       "4            0      137             40             35      168  43.1   \n",
       "\n",
       "   DiabetesPedigreeFunction  Age  Outcome  \n",
       "0                     0.627   50        1  \n",
       "1                     0.351   31        0  \n",
       "2                     0.672   32        1  \n",
       "3                     0.167   21        0  \n",
       "4                     2.288   33        1  "
      ]
     },
     "execution_count": 2,
     "metadata": {},
     "output_type": "execute_result"
    }
   ],
   "source": [
    "data = pd.read_csv(\"./data/diabetes.csv\")\n",
    "data.head()"
   ]
  },
  {
   "cell_type": "code",
   "execution_count": 3,
   "id": "removed-marketplace",
   "metadata": {},
   "outputs": [
    {
     "data": {
      "text/plain": [
       "768"
      ]
     },
     "execution_count": 3,
     "metadata": {},
     "output_type": "execute_result"
    }
   ],
   "source": [
    "len(data)"
   ]
  },
  {
   "cell_type": "markdown",
   "id": "written-minnesota",
   "metadata": {},
   "source": [
    "### Creating Splits - Gini Impurity\n",
    "For numeric features, we must calculate the various thresholds and corresponding gini scores for each threshold.\n",
    "\n",
    "See [this link](https://www.analyticsvidhya.com/blog/2021/03/how-to-select-best-split-in-decision-trees-gini-impurity/) to understand Gini Impurity."
   ]
  },
  {
   "cell_type": "code",
   "execution_count": 4,
   "id": "contained-joint",
   "metadata": {},
   "outputs": [
    {
     "data": {
      "text/plain": [
       "((614, 8), (614,))"
      ]
     },
     "execution_count": 4,
     "metadata": {},
     "output_type": "execute_result"
    }
   ],
   "source": [
    "from sklearn.model_selection import train_test_split\n",
    "X = data.drop('Outcome', axis=1, inplace=False)\n",
    "y = data['Outcome']\n",
    "\n",
    "X_train,X_test,y_train,y_test=train_test_split(X, y, test_size=0.20, random_state=0)\n",
    "X_train.shape, y_train.shape"
   ]
  },
  {
   "cell_type": "markdown",
   "id": "combined-denmark",
   "metadata": {},
   "source": [
    "### Building the Decision Tree Classifier"
   ]
  },
  {
   "cell_type": "code",
   "execution_count": 7,
   "id": "magnetic-placement",
   "metadata": {},
   "outputs": [],
   "source": [
    "class Node:\n",
    "    '''\n",
    "    A class representing a Node in a Decision Tree.\n",
    "    '''\n",
    "    def __init__(self, gini, num_samples, pred_class):\n",
    "        self.gini = gini # total gini index score\n",
    "        self.pred_class = pred_class\n",
    "        self.num_samples = num_samples\n",
    "        \n",
    "        self.feat_index = None\n",
    "        self.split_threshold=None\n",
    "        self.left = None\n",
    "        self.right = None\n",
    "        \n",
    "class DecisionTree:\n",
    "    '''\n",
    "    A class representing a Decision Tree Classifier, which evaluates split costs\n",
    "    by using a Gini impurity calculation.\n",
    "    '''\n",
    "    def __init__(self, max_depth=None, verbose=False):\n",
    "        self.max_depth = max_depth\n",
    "        self.verbose = verbose\n",
    "        self.total_classes = 0\n",
    "        self.total_feats = 0\n",
    "        self.tree = None\n",
    "        \n",
    "    def fit(self,X,y): # TODO: detect and convert Pandas DataFrames as input to numpy arrays\n",
    "        '''\n",
    "        Fits the input data to the model (grows the tree).\n",
    "        '''\n",
    "        self.total_classes = len(set(y))\n",
    "        self.total_feats = X.shape[1]\n",
    "        if self.max_depth:\n",
    "            self.tree = self._grow(X,y,depth=0)\n",
    "        else:\n",
    "            self.tree = self._grow(X,y)\n",
    "         \n",
    "    def predict(self,X):\n",
    "        '''\n",
    "        Predicts all X test samples using the Decision Tree.\n",
    "        A call to fit() is necessary prior to prediction.\n",
    "        '''\n",
    "        preds = []\n",
    "        \n",
    "        for row in X:\n",
    "            curr = self.tree\n",
    "            while curr.left:\n",
    "                if row[curr.feat_index] < curr.split_threshold:\n",
    "                    curr = curr.left\n",
    "                else: curr = curr.right\n",
    "            preds.append(curr.pred_class)\n",
    "        return preds\n",
    "    \n",
    "    def info(self): # TODO\n",
    "        '''\n",
    "        Print the details of the model.\n",
    "        '''\n",
    "        print()\n",
    "    \n",
    "    def _grow(self,X,y,depth=None):\n",
    "        '''\n",
    "        Recursively grows this DecisionTree and returns the root Node.\n",
    "        '''\n",
    "        if self.verbose: \n",
    "            if depth is not None:\n",
    "                print('Current depth: {}'.format(depth))\n",
    "        node = Node(gini=self._calc_gini(y), num_samples=y.size, pred_class=np.argmax(\n",
    "            [np.sum(y==c) for c in range(len(set(y)))]))\n",
    "        \n",
    "        if depth and depth >= self.max_depth:\n",
    "            return node\n",
    "        \n",
    "        gini, split_idx, split_threshold = self._split(X,y)\n",
    "        \n",
    "        if gini < node.gini: # recursively call _grow for left and right child nodes\n",
    "            node.feat_index = split_idx\n",
    "            node.split_threshold = split_threshold\n",
    "            \n",
    "            left_cond = X[:,split_idx] < split_threshold # left indices, negate for right indices\n",
    "            node.left = self._grow(X[left_cond], y[left_cond], depth+1 if depth is not None else None)\n",
    "            node.right = self._grow(X[~left_cond],y[~left_cond], depth+1 if depth is not None else None)\n",
    "        \n",
    "        return node\n",
    "            \n",
    "    \n",
    "    def _calc_gini(self,y):\n",
    "        '''\n",
    "        Calculates the unweighted gini score for the given data.\n",
    "        '''\n",
    "        class_counts = [np.sum(y==c) for c in range(len(set(y)))]\n",
    "        return 1 - np.sum([(count/len(y))**2 for count in class_counts])\n",
    "    \n",
    "    def _split(self,X,y):\n",
    "        '''\n",
    "        Calculates the optimal split of the given dataset based on the lowest gini index\n",
    "        and returns the following:\n",
    "        \n",
    "        - gini: Minimum gini score for the given data (out of all the feats)\n",
    "        - split_idx: The split index (the column index) of the feature selected as a split\n",
    "        - split_threshold: The numerical threshold value where the split occurs in the data\n",
    "        '''\n",
    "        assert(len(X)==len(y)) # ensure data has same length\n",
    "        if y.size <= 1:\n",
    "            return 999999, None, None\n",
    "        \n",
    "        num_feats = X.shape[1]\n",
    "\n",
    "        gini, split_idx, split_threshold = 999999, None, None\n",
    "        for feat in range(num_feats):\n",
    "            vals, labels = zip(*sorted(zip(X[:,feat], y)))\n",
    "            vals = np.array(vals)\n",
    "            labels = np.array(labels)\n",
    "            \n",
    "            for index in range(1, len(y)):\n",
    "                if vals[index-1]==vals[index]: # avoids attempting a split on identical values\n",
    "                    continue\n",
    "            \n",
    "                curr_threshold = (vals[index-1] + vals[index]) / 2 # adjacent mean\n",
    "\n",
    "                # calculate left and right gini scores\n",
    "                left = self._calc_gini(labels[:index])\n",
    "                right = self._calc_gini(labels[index:])\n",
    "\n",
    "                # calculate total (weighted) gini impurity for left and right gini scores\n",
    "                curr_gini = ((len(vals[:index]) / y.size)*left) + ((len(vals[index:]) / y.size)*right)\n",
    "                if curr_gini < gini:\n",
    "                    gini, split_idx, split_threshold = curr_gini, feat, curr_threshold\n",
    "\n",
    "        if self.verbose: print(\"Best Gini: {}\\nFeature Index: {}\\nThreshold Value: {}\\n\".format(gini, split_idx, split_threshold))\n",
    "        return gini, split_idx, split_threshold\n",
    "        "
   ]
  },
  {
   "cell_type": "markdown",
   "id": "distinct-architect",
   "metadata": {},
   "source": [
    "### Fitting the Data"
   ]
  },
  {
   "cell_type": "code",
   "execution_count": 8,
   "id": "finished-valuable",
   "metadata": {},
   "outputs": [],
   "source": [
    "dt = DecisionTree(max_depth=5, verbose=False)\n",
    "dt.fit(X_train.to_numpy(), y_train.to_numpy())"
   ]
  },
  {
   "cell_type": "markdown",
   "id": "representative-aircraft",
   "metadata": {},
   "source": [
    "### Testing and Metrics"
   ]
  },
  {
   "cell_type": "code",
   "execution_count": 9,
   "id": "buried-period",
   "metadata": {},
   "outputs": [
    {
     "name": "stdout",
     "output_type": "stream",
     "text": [
      "Accuracy Score: 0.7532467532467533\n"
     ]
    }
   ],
   "source": [
    "from sklearn.metrics import accuracy_score\n",
    "y_pred = dt.predict(X=X_test.to_numpy())\n",
    "print(\"Accuracy Score:\", accuracy_score(y_test, y_pred))"
   ]
  },
  {
   "cell_type": "markdown",
   "id": "complicated-discussion",
   "metadata": {},
   "source": [
    "### Compare to Sklearn Decision Tree Classifier"
   ]
  },
  {
   "cell_type": "code",
   "execution_count": 10,
   "id": "passive-harvard",
   "metadata": {},
   "outputs": [
    {
     "name": "stdout",
     "output_type": "stream",
     "text": [
      "Sklearn Accuracy Score: 0.7532467532467533\n"
     ]
    }
   ],
   "source": [
    "from sklearn.tree import DecisionTreeClassifier\n",
    "\n",
    "sk_dt = DecisionTreeClassifier(max_depth=5)\n",
    "sk_dt.fit(X_train.to_numpy(), y_train.to_numpy())\n",
    "y_pred_sk = sk_dt.predict(X_test.to_numpy())\n",
    "\n",
    "print(\"Sklearn Accuracy Score:\", accuracy_score(y_test, y_pred_sk))"
   ]
  },
  {
   "cell_type": "code",
   "execution_count": null,
   "id": "registered-geology",
   "metadata": {},
   "outputs": [],
   "source": []
  }
 ],
 "metadata": {
  "kernelspec": {
   "display_name": "Python 3",
   "language": "python",
   "name": "python3"
  },
  "language_info": {
   "codemirror_mode": {
    "name": "ipython",
    "version": 3
   },
   "file_extension": ".py",
   "mimetype": "text/x-python",
   "name": "python",
   "nbconvert_exporter": "python",
   "pygments_lexer": "ipython3",
   "version": "3.8.8"
  }
 },
 "nbformat": 4,
 "nbformat_minor": 5
}
